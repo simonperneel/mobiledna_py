{
 "cells": [
  {
   "cell_type": "markdown",
   "source": [
    "Import the mobiledna library and its functions. The mobiledna library has 3 directories:\n",
    "    - core directory with the most important data handling functions for mobiledna data\n",
    "    - the cache directory with some cached information on the category and fancyname of the apps\n",
    "    - the advanced directory with some advanced functions for analysing (app churners, estimating home location of people)\n",
    "\n",
    "More specifically, we will import the Appevents, Notifications and Session modules so we can load that data\n"
   ],
   "metadata": {
    "collapsed": false
   }
  },
  {
   "cell_type": "code",
   "execution_count": 1,
   "outputs": [],
   "source": [
    "from mobiledna.core.appevents import Appevents\n",
    "from mobiledna.core.notifications import Notifications\n",
    "from mobiledna.core.sessions import Sessions"
   ],
   "metadata": {
    "collapsed": false,
    "ExecuteTime": {
     "end_time": "2023-07-10T07:56:41.657738Z",
     "start_time": "2023-07-10T07:56:35.984895Z"
    }
   }
  },
  {
   "cell_type": "markdown",
   "source": [
    "We will also import the help directory module; which will help us to set the directories right\n"
   ],
   "metadata": {
    "collapsed": false
   }
  },
  {
   "cell_type": "code",
   "execution_count": 2,
   "outputs": [],
   "source": [
    "import mobiledna.core.help as help"
   ],
   "metadata": {
    "collapsed": false,
    "ExecuteTime": {
     "end_time": "2023-07-10T07:56:43.387632Z",
     "start_time": "2023-07-10T07:56:43.375223Z"
    }
   }
  },
  {
   "cell_type": "markdown",
   "source": [
    "Call the `hi` function in `help` to get started (this function will also the directories right so it can find the cached data)\n"
   ],
   "metadata": {
    "collapsed": false
   }
  },
  {
   "cell_type": "code",
   "execution_count": 3,
   "outputs": [
    {
     "name": "stdout",
     "output_type": "stream",
     "text": [
      "\n",
      "\u001B[34m                   _     _ _     ______ _   _   ___\u001B[0m\n",
      "\u001B[34m                  | |   (_) |    |  _  \\ \\ | | / _ \\ \u001B[0m\n",
      "\u001B[34m   _ __ ___   ___ | |__  _| | ___| | | |  \\| |/ /_\\ \\\u001B[0m\n",
      "\u001B[34m  | '_ ` _ \\ / _ \\| '_ \\| | |/ _ \\ | | | . ` ||  _  |\u001B[0m\n",
      "\u001B[34m  | | | | | | (_) | |_) | | |  __/ |/ /| |\\  || | | |\u001B[0m\n",
      "\u001B[34m  |_| |_| |_|\\___/|_.__/|_|_|\\___|___/ \\_| \\_/\\_| |_/\u001B[0m\n",
      "\n",
      "📝 LOG_LEVEL is set to \u001B[31m3\u001B[0m.\n",
      "🗄 DATA_DIR is set to \u001B[31m/Users/simonperneel/Documents/data\u001B[0m\n",
      "🫗 CACHE_DIR is set to \u001B[31m/Users/simonperneel/Documents/Imec-mict/mobiledna_py/mobiledna/cache\u001B[0m\n",
      "\n"
     ]
    }
   ],
   "source": [
    "help.hi()"
   ],
   "metadata": {
    "collapsed": false,
    "ExecuteTime": {
     "end_time": "2023-07-10T07:58:56.923252Z",
     "start_time": "2023-07-10T07:58:56.918349Z"
    }
   }
  },
  {
   "cell_type": "code",
   "execution_count": 9,
   "outputs": [
    {
     "name": "stdout",
     "output_type": "stream",
     "text": [
      "2023-07-10 10:19:24 - Recognized file type as <parquet>.\n",
      "2023-07-10 10:19:25 - 'load' took 0.859 seconds to complete.\n"
     ]
    },
    {
     "data": {
      "text/plain": "                                          id     model     session               startTime                 endTime  notification  notificationId                       application  battery  latitude  longitude        studyKey        surveyId data_version  startDate    endDate  duration\n408116  00c04cb4-5e24-4a4a-ab12-144143763e87  SM-A127F  1682894059 2023-05-01 00:40:08.066 2023-05-01 00:40:08.293         False             0.0                    com.wssyncmldm       47       0.0        0.0  masterproef_NB  24061996joelpa        1.6.1 2023-05-01 2023-05-01     0.227\n408117  00c04cb4-5e24-4a4a-ab12-144143763e87  SM-A127F  1682897972 2023-05-01 01:39:33.734 2023-05-01 01:39:36.398         False             0.0                    com.wssyncmldm       47       0.0        0.0  masterproef_NB  24061996joelpa        1.6.1 2023-05-01 2023-05-01     2.664\n413035  00c04cb4-5e24-4a4a-ab12-144143763e87  SM-A127F  1682897972 2023-05-01 01:39:40.549 2023-05-01 01:39:44.889         False             0.0  com.sec.android.app.clockpackage       47       0.0        0.0  masterproef_NB  24061996joelpa        1.6.1 2023-05-01 2023-05-01     4.340\n410670  00c04cb4-5e24-4a4a-ab12-144143763e87  SM-A127F  1682897972 2023-05-01 01:39:45.020 2023-05-01 01:39:47.708         False             0.0  com.samsung.android.app.routines       47       0.0        0.0  masterproef_NB  24061996joelpa        1.6.1 2023-05-01 2023-05-01     2.688\n406607  00c04cb4-5e24-4a4a-ab12-144143763e87  SM-A127F  1682897972 2023-05-01 01:39:47.727 2023-05-01 01:39:57.305         False             0.0  com.sec.android.app.clockpackage       47       0.0        0.0  masterproef_NB  24061996joelpa        1.6.1 2023-05-01 2023-05-01     9.578",
      "text/html": "<div>\n<style scoped>\n    .dataframe tbody tr th:only-of-type {\n        vertical-align: middle;\n    }\n\n    .dataframe tbody tr th {\n        vertical-align: top;\n    }\n\n    .dataframe thead th {\n        text-align: right;\n    }\n</style>\n<table border=\"1\" class=\"dataframe\">\n  <thead>\n    <tr style=\"text-align: right;\">\n      <th></th>\n      <th>id</th>\n      <th>model</th>\n      <th>session</th>\n      <th>startTime</th>\n      <th>endTime</th>\n      <th>notification</th>\n      <th>notificationId</th>\n      <th>application</th>\n      <th>battery</th>\n      <th>latitude</th>\n      <th>longitude</th>\n      <th>studyKey</th>\n      <th>surveyId</th>\n      <th>data_version</th>\n      <th>startDate</th>\n      <th>endDate</th>\n      <th>duration</th>\n    </tr>\n  </thead>\n  <tbody>\n    <tr>\n      <th>408116</th>\n      <td>00c04cb4-5e24-4a4a-ab12-144143763e87</td>\n      <td>SM-A127F</td>\n      <td>1682894059</td>\n      <td>2023-05-01 00:40:08.066</td>\n      <td>2023-05-01 00:40:08.293</td>\n      <td>False</td>\n      <td>0.0</td>\n      <td>com.wssyncmldm</td>\n      <td>47</td>\n      <td>0.0</td>\n      <td>0.0</td>\n      <td>masterproef_NB</td>\n      <td>24061996joelpa</td>\n      <td>1.6.1</td>\n      <td>2023-05-01</td>\n      <td>2023-05-01</td>\n      <td>0.227</td>\n    </tr>\n    <tr>\n      <th>408117</th>\n      <td>00c04cb4-5e24-4a4a-ab12-144143763e87</td>\n      <td>SM-A127F</td>\n      <td>1682897972</td>\n      <td>2023-05-01 01:39:33.734</td>\n      <td>2023-05-01 01:39:36.398</td>\n      <td>False</td>\n      <td>0.0</td>\n      <td>com.wssyncmldm</td>\n      <td>47</td>\n      <td>0.0</td>\n      <td>0.0</td>\n      <td>masterproef_NB</td>\n      <td>24061996joelpa</td>\n      <td>1.6.1</td>\n      <td>2023-05-01</td>\n      <td>2023-05-01</td>\n      <td>2.664</td>\n    </tr>\n    <tr>\n      <th>413035</th>\n      <td>00c04cb4-5e24-4a4a-ab12-144143763e87</td>\n      <td>SM-A127F</td>\n      <td>1682897972</td>\n      <td>2023-05-01 01:39:40.549</td>\n      <td>2023-05-01 01:39:44.889</td>\n      <td>False</td>\n      <td>0.0</td>\n      <td>com.sec.android.app.clockpackage</td>\n      <td>47</td>\n      <td>0.0</td>\n      <td>0.0</td>\n      <td>masterproef_NB</td>\n      <td>24061996joelpa</td>\n      <td>1.6.1</td>\n      <td>2023-05-01</td>\n      <td>2023-05-01</td>\n      <td>4.340</td>\n    </tr>\n    <tr>\n      <th>410670</th>\n      <td>00c04cb4-5e24-4a4a-ab12-144143763e87</td>\n      <td>SM-A127F</td>\n      <td>1682897972</td>\n      <td>2023-05-01 01:39:45.020</td>\n      <td>2023-05-01 01:39:47.708</td>\n      <td>False</td>\n      <td>0.0</td>\n      <td>com.samsung.android.app.routines</td>\n      <td>47</td>\n      <td>0.0</td>\n      <td>0.0</td>\n      <td>masterproef_NB</td>\n      <td>24061996joelpa</td>\n      <td>1.6.1</td>\n      <td>2023-05-01</td>\n      <td>2023-05-01</td>\n      <td>2.688</td>\n    </tr>\n    <tr>\n      <th>406607</th>\n      <td>00c04cb4-5e24-4a4a-ab12-144143763e87</td>\n      <td>SM-A127F</td>\n      <td>1682897972</td>\n      <td>2023-05-01 01:39:47.727</td>\n      <td>2023-05-01 01:39:57.305</td>\n      <td>False</td>\n      <td>0.0</td>\n      <td>com.sec.android.app.clockpackage</td>\n      <td>47</td>\n      <td>0.0</td>\n      <td>0.0</td>\n      <td>masterproef_NB</td>\n      <td>24061996joelpa</td>\n      <td>1.6.1</td>\n      <td>2023-05-01</td>\n      <td>2023-05-01</td>\n      <td>9.578</td>\n    </tr>\n  </tbody>\n</table>\n</div>"
     },
     "execution_count": 9,
     "metadata": {},
     "output_type": "execute_result"
    }
   ],
   "source": [
    "# Load the dummy data\n",
    "apps = Appevents.load_data('./data/dummy_appevents.parquet')\n",
    "# This returns an 'Appevents' object. The appevents object consists of the appevents data in a dataframe and some additional parameters (strip the first and last logdate of each participant, ...)\n",
    "\n",
    "# If we want the data, we call the get_data() function\n",
    "apps_df = apps.get_data()\n",
    "\n",
    "# Output some rows\n",
    "apps_df.head(n=5)"
   ],
   "metadata": {
    "collapsed": false,
    "ExecuteTime": {
     "end_time": "2023-07-10T08:19:28.727275Z",
     "start_time": "2023-07-10T08:19:24.598679Z"
    }
   }
  },
  {
   "cell_type": "markdown",
   "source": [
    "The data has not the fancyname of the app and the app category with it. Let's add this with the functions in the Appevents module:\n",
    "Normally, if the directory are set right, the appname and category will be searched in the cache directory. If you want to update the, you can also set the scrape parameter to True, and then it will do a search on the google play store to find this information.\n"
   ],
   "metadata": {
    "collapsed": false
   }
  },
  {
   "cell_type": "code",
   "execution_count": 11,
   "outputs": [
    {
     "name": "stderr",
     "output_type": "stream",
     "text": [
      "Adding appname: 100%|██████████| 2402432/2402432 [00:01<00:00, 2290984.29it/s]\n",
      "Adding category: 100%|██████████| 2402432/2402432 [00:01<00:00, 2044073.50it/s]\n"
     ]
    }
   ],
   "source": [
    "# Add fancyname from app codename\n",
    "apps = apps.add_appname(scrape=False)\n",
    "# Add categry from app codename\n",
    "apps = apps.add_category(scrape=False)"
   ],
   "metadata": {
    "collapsed": false,
    "ExecuteTime": {
     "end_time": "2023-07-10T08:24:24.923108Z",
     "start_time": "2023-07-10T08:24:22.499074Z"
    }
   }
  },
  {
   "cell_type": "markdown",
   "source": [
    "Now you can see that this information has been added:"
   ],
   "metadata": {
    "collapsed": false
   }
  },
  {
   "cell_type": "code",
   "execution_count": 12,
   "outputs": [
    {
     "data": {
      "text/plain": "                                          id     model     session               startTime                 endTime  notification  notificationId                       application  battery  latitude  longitude        studyKey        surveyId data_version  startDate    endDate  duration                    name category\n408116  00c04cb4-5e24-4a4a-ab12-144143763e87  SM-A127F  1682894059 2023-05-01 00:40:08.066 2023-05-01 00:40:08.293         False             0.0                    com.wssyncmldm       47       0.0        0.0  masterproef_NB  24061996joelpa        1.6.1 2023-05-01 2023-05-01     0.227  Android System Updater   system\n408117  00c04cb4-5e24-4a4a-ab12-144143763e87  SM-A127F  1682897972 2023-05-01 01:39:33.734 2023-05-01 01:39:36.398         False             0.0                    com.wssyncmldm       47       0.0        0.0  masterproef_NB  24061996joelpa        1.6.1 2023-05-01 2023-05-01     2.664  Android System Updater   system\n413035  00c04cb4-5e24-4a4a-ab12-144143763e87  SM-A127F  1682897972 2023-05-01 01:39:40.549 2023-05-01 01:39:44.889         False             0.0  com.sec.android.app.clockpackage       47       0.0        0.0  masterproef_NB  24061996joelpa        1.6.1 2023-05-01 2023-05-01     4.340           Samsung Clock    clock\n410670  00c04cb4-5e24-4a4a-ab12-144143763e87  SM-A127F  1682897972 2023-05-01 01:39:45.020 2023-05-01 01:39:47.708         False             0.0  com.samsung.android.app.routines       47       0.0        0.0  masterproef_NB  24061996joelpa        1.6.1 2023-05-01 2023-05-01     2.688                    None  unknown\n406607  00c04cb4-5e24-4a4a-ab12-144143763e87  SM-A127F  1682897972 2023-05-01 01:39:47.727 2023-05-01 01:39:57.305         False             0.0  com.sec.android.app.clockpackage       47       0.0        0.0  masterproef_NB  24061996joelpa        1.6.1 2023-05-01 2023-05-01     9.578           Samsung Clock    clock",
      "text/html": "<div>\n<style scoped>\n    .dataframe tbody tr th:only-of-type {\n        vertical-align: middle;\n    }\n\n    .dataframe tbody tr th {\n        vertical-align: top;\n    }\n\n    .dataframe thead th {\n        text-align: right;\n    }\n</style>\n<table border=\"1\" class=\"dataframe\">\n  <thead>\n    <tr style=\"text-align: right;\">\n      <th></th>\n      <th>id</th>\n      <th>model</th>\n      <th>session</th>\n      <th>startTime</th>\n      <th>endTime</th>\n      <th>notification</th>\n      <th>notificationId</th>\n      <th>application</th>\n      <th>battery</th>\n      <th>latitude</th>\n      <th>longitude</th>\n      <th>studyKey</th>\n      <th>surveyId</th>\n      <th>data_version</th>\n      <th>startDate</th>\n      <th>endDate</th>\n      <th>duration</th>\n      <th>name</th>\n      <th>category</th>\n    </tr>\n  </thead>\n  <tbody>\n    <tr>\n      <th>408116</th>\n      <td>00c04cb4-5e24-4a4a-ab12-144143763e87</td>\n      <td>SM-A127F</td>\n      <td>1682894059</td>\n      <td>2023-05-01 00:40:08.066</td>\n      <td>2023-05-01 00:40:08.293</td>\n      <td>False</td>\n      <td>0.0</td>\n      <td>com.wssyncmldm</td>\n      <td>47</td>\n      <td>0.0</td>\n      <td>0.0</td>\n      <td>masterproef_NB</td>\n      <td>24061996joelpa</td>\n      <td>1.6.1</td>\n      <td>2023-05-01</td>\n      <td>2023-05-01</td>\n      <td>0.227</td>\n      <td>Android System Updater</td>\n      <td>system</td>\n    </tr>\n    <tr>\n      <th>408117</th>\n      <td>00c04cb4-5e24-4a4a-ab12-144143763e87</td>\n      <td>SM-A127F</td>\n      <td>1682897972</td>\n      <td>2023-05-01 01:39:33.734</td>\n      <td>2023-05-01 01:39:36.398</td>\n      <td>False</td>\n      <td>0.0</td>\n      <td>com.wssyncmldm</td>\n      <td>47</td>\n      <td>0.0</td>\n      <td>0.0</td>\n      <td>masterproef_NB</td>\n      <td>24061996joelpa</td>\n      <td>1.6.1</td>\n      <td>2023-05-01</td>\n      <td>2023-05-01</td>\n      <td>2.664</td>\n      <td>Android System Updater</td>\n      <td>system</td>\n    </tr>\n    <tr>\n      <th>413035</th>\n      <td>00c04cb4-5e24-4a4a-ab12-144143763e87</td>\n      <td>SM-A127F</td>\n      <td>1682897972</td>\n      <td>2023-05-01 01:39:40.549</td>\n      <td>2023-05-01 01:39:44.889</td>\n      <td>False</td>\n      <td>0.0</td>\n      <td>com.sec.android.app.clockpackage</td>\n      <td>47</td>\n      <td>0.0</td>\n      <td>0.0</td>\n      <td>masterproef_NB</td>\n      <td>24061996joelpa</td>\n      <td>1.6.1</td>\n      <td>2023-05-01</td>\n      <td>2023-05-01</td>\n      <td>4.340</td>\n      <td>Samsung Clock</td>\n      <td>clock</td>\n    </tr>\n    <tr>\n      <th>410670</th>\n      <td>00c04cb4-5e24-4a4a-ab12-144143763e87</td>\n      <td>SM-A127F</td>\n      <td>1682897972</td>\n      <td>2023-05-01 01:39:45.020</td>\n      <td>2023-05-01 01:39:47.708</td>\n      <td>False</td>\n      <td>0.0</td>\n      <td>com.samsung.android.app.routines</td>\n      <td>47</td>\n      <td>0.0</td>\n      <td>0.0</td>\n      <td>masterproef_NB</td>\n      <td>24061996joelpa</td>\n      <td>1.6.1</td>\n      <td>2023-05-01</td>\n      <td>2023-05-01</td>\n      <td>2.688</td>\n      <td>None</td>\n      <td>unknown</td>\n    </tr>\n    <tr>\n      <th>406607</th>\n      <td>00c04cb4-5e24-4a4a-ab12-144143763e87</td>\n      <td>SM-A127F</td>\n      <td>1682897972</td>\n      <td>2023-05-01 01:39:47.727</td>\n      <td>2023-05-01 01:39:57.305</td>\n      <td>False</td>\n      <td>0.0</td>\n      <td>com.sec.android.app.clockpackage</td>\n      <td>47</td>\n      <td>0.0</td>\n      <td>0.0</td>\n      <td>masterproef_NB</td>\n      <td>24061996joelpa</td>\n      <td>1.6.1</td>\n      <td>2023-05-01</td>\n      <td>2023-05-01</td>\n      <td>9.578</td>\n      <td>Samsung Clock</td>\n      <td>clock</td>\n    </tr>\n  </tbody>\n</table>\n</div>"
     },
     "execution_count": 12,
     "metadata": {},
     "output_type": "execute_result"
    }
   ],
   "source": [
    "apps_df.head()"
   ],
   "metadata": {
    "collapsed": false,
    "ExecuteTime": {
     "end_time": "2023-07-10T08:24:24.939430Z",
     "start_time": "2023-07-10T08:24:24.927300Z"
    }
   }
  },
  {
   "cell_type": "markdown",
   "source": [
    "We can also add information on the age of the participants from the studyKey (since the studyKey consist of the birthdate with some other things)"
   ],
   "metadata": {
    "collapsed": false
   }
  },
  {
   "cell_type": "code",
   "execution_count": 13,
   "outputs": [
    {
     "name": "stdout",
     "output_type": "stream",
     "text": [
      "2023-07-10 10:25:16 - Adding age column from surveyId.\n"
     ]
    },
    {
     "name": "stderr",
     "output_type": "stream",
     "text": [
      "Adding dotw <startDate>: 100%|██████████| 2402432/2402432 [00:06<00:00, 380082.51it/s]\n",
      "Adding tod <startTime>: 100%|██████████| 2402432/2402432 [00:03<00:00, 620017.85it/s] \n"
     ]
    },
    {
     "data": {
      "text/plain": "                                          id     model     session               startTime                 endTime  notification  notificationId                       application  battery  latitude  longitude        studyKey        surveyId data_version  startDate    endDate  duration                    name category   age startDOTW    startTOD\n408116  00c04cb4-5e24-4a4a-ab12-144143763e87  SM-A127F  1682894059 2023-05-01 00:40:08.066 2023-05-01 00:40:08.293         False             0.0                    com.wssyncmldm       47       0.0        0.0  masterproef_NB  24061996joelpa        1.6.1 2023-05-01 2023-05-01     0.227  Android System Updater   system  26.0      week  late_night\n408117  00c04cb4-5e24-4a4a-ab12-144143763e87  SM-A127F  1682897972 2023-05-01 01:39:33.734 2023-05-01 01:39:36.398         False             0.0                    com.wssyncmldm       47       0.0        0.0  masterproef_NB  24061996joelpa        1.6.1 2023-05-01 2023-05-01     2.664  Android System Updater   system  26.0      week  late_night\n413035  00c04cb4-5e24-4a4a-ab12-144143763e87  SM-A127F  1682897972 2023-05-01 01:39:40.549 2023-05-01 01:39:44.889         False             0.0  com.sec.android.app.clockpackage       47       0.0        0.0  masterproef_NB  24061996joelpa        1.6.1 2023-05-01 2023-05-01     4.340           Samsung Clock    clock  26.0      week  late_night\n410670  00c04cb4-5e24-4a4a-ab12-144143763e87  SM-A127F  1682897972 2023-05-01 01:39:45.020 2023-05-01 01:39:47.708         False             0.0  com.samsung.android.app.routines       47       0.0        0.0  masterproef_NB  24061996joelpa        1.6.1 2023-05-01 2023-05-01     2.688                    None  unknown  26.0      week  late_night\n406607  00c04cb4-5e24-4a4a-ab12-144143763e87  SM-A127F  1682897972 2023-05-01 01:39:47.727 2023-05-01 01:39:57.305         False             0.0  com.sec.android.app.clockpackage       47       0.0        0.0  masterproef_NB  24061996joelpa        1.6.1 2023-05-01 2023-05-01     9.578           Samsung Clock    clock  26.0      week  late_night",
      "text/html": "<div>\n<style scoped>\n    .dataframe tbody tr th:only-of-type {\n        vertical-align: middle;\n    }\n\n    .dataframe tbody tr th {\n        vertical-align: top;\n    }\n\n    .dataframe thead th {\n        text-align: right;\n    }\n</style>\n<table border=\"1\" class=\"dataframe\">\n  <thead>\n    <tr style=\"text-align: right;\">\n      <th></th>\n      <th>id</th>\n      <th>model</th>\n      <th>session</th>\n      <th>startTime</th>\n      <th>endTime</th>\n      <th>notification</th>\n      <th>notificationId</th>\n      <th>application</th>\n      <th>battery</th>\n      <th>latitude</th>\n      <th>longitude</th>\n      <th>studyKey</th>\n      <th>surveyId</th>\n      <th>data_version</th>\n      <th>startDate</th>\n      <th>endDate</th>\n      <th>duration</th>\n      <th>name</th>\n      <th>category</th>\n      <th>age</th>\n      <th>startDOTW</th>\n      <th>startTOD</th>\n    </tr>\n  </thead>\n  <tbody>\n    <tr>\n      <th>408116</th>\n      <td>00c04cb4-5e24-4a4a-ab12-144143763e87</td>\n      <td>SM-A127F</td>\n      <td>1682894059</td>\n      <td>2023-05-01 00:40:08.066</td>\n      <td>2023-05-01 00:40:08.293</td>\n      <td>False</td>\n      <td>0.0</td>\n      <td>com.wssyncmldm</td>\n      <td>47</td>\n      <td>0.0</td>\n      <td>0.0</td>\n      <td>masterproef_NB</td>\n      <td>24061996joelpa</td>\n      <td>1.6.1</td>\n      <td>2023-05-01</td>\n      <td>2023-05-01</td>\n      <td>0.227</td>\n      <td>Android System Updater</td>\n      <td>system</td>\n      <td>26.0</td>\n      <td>week</td>\n      <td>late_night</td>\n    </tr>\n    <tr>\n      <th>408117</th>\n      <td>00c04cb4-5e24-4a4a-ab12-144143763e87</td>\n      <td>SM-A127F</td>\n      <td>1682897972</td>\n      <td>2023-05-01 01:39:33.734</td>\n      <td>2023-05-01 01:39:36.398</td>\n      <td>False</td>\n      <td>0.0</td>\n      <td>com.wssyncmldm</td>\n      <td>47</td>\n      <td>0.0</td>\n      <td>0.0</td>\n      <td>masterproef_NB</td>\n      <td>24061996joelpa</td>\n      <td>1.6.1</td>\n      <td>2023-05-01</td>\n      <td>2023-05-01</td>\n      <td>2.664</td>\n      <td>Android System Updater</td>\n      <td>system</td>\n      <td>26.0</td>\n      <td>week</td>\n      <td>late_night</td>\n    </tr>\n    <tr>\n      <th>413035</th>\n      <td>00c04cb4-5e24-4a4a-ab12-144143763e87</td>\n      <td>SM-A127F</td>\n      <td>1682897972</td>\n      <td>2023-05-01 01:39:40.549</td>\n      <td>2023-05-01 01:39:44.889</td>\n      <td>False</td>\n      <td>0.0</td>\n      <td>com.sec.android.app.clockpackage</td>\n      <td>47</td>\n      <td>0.0</td>\n      <td>0.0</td>\n      <td>masterproef_NB</td>\n      <td>24061996joelpa</td>\n      <td>1.6.1</td>\n      <td>2023-05-01</td>\n      <td>2023-05-01</td>\n      <td>4.340</td>\n      <td>Samsung Clock</td>\n      <td>clock</td>\n      <td>26.0</td>\n      <td>week</td>\n      <td>late_night</td>\n    </tr>\n    <tr>\n      <th>410670</th>\n      <td>00c04cb4-5e24-4a4a-ab12-144143763e87</td>\n      <td>SM-A127F</td>\n      <td>1682897972</td>\n      <td>2023-05-01 01:39:45.020</td>\n      <td>2023-05-01 01:39:47.708</td>\n      <td>False</td>\n      <td>0.0</td>\n      <td>com.samsung.android.app.routines</td>\n      <td>47</td>\n      <td>0.0</td>\n      <td>0.0</td>\n      <td>masterproef_NB</td>\n      <td>24061996joelpa</td>\n      <td>1.6.1</td>\n      <td>2023-05-01</td>\n      <td>2023-05-01</td>\n      <td>2.688</td>\n      <td>None</td>\n      <td>unknown</td>\n      <td>26.0</td>\n      <td>week</td>\n      <td>late_night</td>\n    </tr>\n    <tr>\n      <th>406607</th>\n      <td>00c04cb4-5e24-4a4a-ab12-144143763e87</td>\n      <td>SM-A127F</td>\n      <td>1682897972</td>\n      <td>2023-05-01 01:39:47.727</td>\n      <td>2023-05-01 01:39:57.305</td>\n      <td>False</td>\n      <td>0.0</td>\n      <td>com.sec.android.app.clockpackage</td>\n      <td>47</td>\n      <td>0.0</td>\n      <td>0.0</td>\n      <td>masterproef_NB</td>\n      <td>24061996joelpa</td>\n      <td>1.6.1</td>\n      <td>2023-05-01</td>\n      <td>2023-05-01</td>\n      <td>9.578</td>\n      <td>Samsung Clock</td>\n      <td>clock</td>\n      <td>26.0</td>\n      <td>week</td>\n      <td>late_night</td>\n    </tr>\n  </tbody>\n</table>\n</div>"
     },
     "execution_count": 13,
     "metadata": {},
     "output_type": "execute_result"
    }
   ],
   "source": [
    "apps = apps.add_age()\n",
    "#apps = apps.add_date_type()\n",
    "#apps = apps.add_time_of_day()\n",
    "\n",
    "apps_df.head()"
   ],
   "metadata": {
    "collapsed": false,
    "ExecuteTime": {
     "end_time": "2023-07-10T08:25:28.083398Z",
     "start_time": "2023-07-10T08:25:16.652010Z"
    }
   }
  },
  {
   "cell_type": "markdown",
   "source": [
    "To be continued..."
   ],
   "metadata": {
    "collapsed": false
   }
  },
  {
   "cell_type": "code",
   "execution_count": null,
   "outputs": [],
   "source": [],
   "metadata": {
    "collapsed": false
   }
  }
 ],
 "metadata": {
  "kernelspec": {
   "display_name": "Python 3",
   "language": "python",
   "name": "python3"
  },
  "language_info": {
   "codemirror_mode": {
    "name": "ipython",
    "version": 2
   },
   "file_extension": ".py",
   "mimetype": "text/x-python",
   "name": "python",
   "nbconvert_exporter": "python",
   "pygments_lexer": "ipython2",
   "version": "2.7.6"
  }
 },
 "nbformat": 4,
 "nbformat_minor": 0
}
